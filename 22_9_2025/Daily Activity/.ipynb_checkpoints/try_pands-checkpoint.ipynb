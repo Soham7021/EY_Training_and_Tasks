{
 "cells": [
  {
   "cell_type": "code",
   "execution_count": 1,
   "id": "b0fc5717-ba27-4a33-8a87-0e2789f4e72f",
   "metadata": {},
   "outputs": [],
   "source": [
    "import numpy as np\n",
    "import pandas as pd"
   ]
  },
  {
   "cell_type": "code",
   "execution_count": 2,
   "id": "499b904a-abba-4586-a1e5-38eea29c60e5",
   "metadata": {},
   "outputs": [
    {
     "name": "stdout",
     "output_type": "stream",
     "text": [
      "     Name  Age        Course  Marks\n",
      "0   Rahul   21            AI     85\n",
      "1   Priya   22            ML     90\n",
      "2   Arjun   20  Data Science     78\n",
      "3    Neha   23            AI     88\n",
      "4  Vikram   21            ML     95\n"
     ]
    }
   ],
   "source": [
    "data = {\n",
    "    \"Name\": [\"Rahul\", \"Priya\", \"Arjun\", \"Neha\", \"Vikram\"],\n",
    "    \"Age\": [21, 22, 20, 23, 21],\n",
    "    \"Course\": [\"AI\", \"ML\", \"Data Science\", \"AI\", \"ML\"],\n",
    "    \"Marks\": [85, 90, 78, 88, 95]\n",
    "}\n",
    "\n",
    "df = pd.DataFrame(data)\n",
    "print(df)"
   ]
  },
  {
   "cell_type": "code",
   "execution_count": 3,
   "id": "4b06987c-37c0-40f6-90ec-e0749735fce9",
   "metadata": {},
   "outputs": [
    {
     "name": "stdout",
     "output_type": "stream",
     "text": [
      "0     Rahul\n",
      "1     Priya\n",
      "2     Arjun\n",
      "3      Neha\n",
      "4    Vikram\n",
      "Name: Name, dtype: object\n",
      " \n",
      "     Name  Marks\n",
      "0   Rahul     85\n",
      "1   Priya     90\n",
      "2   Arjun     78\n",
      "3    Neha     88\n",
      "4  Vikram     95\n",
      " \n",
      "Name      Rahul\n",
      "Age          21\n",
      "Course       AI\n",
      "Marks        85\n",
      "Name: 0, dtype: object\n",
      " \n",
      "78\n"
     ]
    }
   ],
   "source": [
    "print(df[\"Name\"])\n",
    "print(\" \")\n",
    "print(df[[\"Name\", \"Marks\"]]) # Multiple COlumns\n",
    "print(\" \")\n",
    "print(df.iloc[0]) #first row\n",
    "print(\" \")\n",
    "print(df.loc[2,\"Marks\"]) #value at row 2 column Marks\n"
   ]
  },
  {
   "cell_type": "code",
   "execution_count": 4,
   "id": "3beaac8b-1f8a-42ae-a161-26d8922c0095",
   "metadata": {},
   "outputs": [
    {
     "name": "stdout",
     "output_type": "stream",
     "text": [
      "     Name  Age Course  Marks\n",
      "0   Rahul   21     AI     85\n",
      "1   Priya   22     ML     90\n",
      "3    Neha   23     AI     88\n",
      "4  Vikram   21     ML     95\n"
     ]
    }
   ],
   "source": [
    "#Filer data\n",
    "high_scorers = df[df[\"Marks\"] > 80]\n",
    "print(high_scorers)"
   ]
  },
  {
   "cell_type": "code",
   "execution_count": 5,
   "id": "5e6e509f-8628-4c4a-a0a4-df4345200125",
   "metadata": {},
   "outputs": [
    {
     "name": "stdout",
     "output_type": "stream",
     "text": [
      "     Name  Age        Course  Marks Result\n",
      "0   Rahul   21            AI     85   Pass\n",
      "1   Priya   22            ML     90   Pass\n",
      "2   Arjun   20  Data Science     78   Fail\n",
      "3    Neha   23            AI     92   Pass\n",
      "4  Vikram   21            ML     95   Pass\n"
     ]
    }
   ],
   "source": [
    "df[\"Result\"] = np.where(df[\"Marks\"] >= 80, \"Pass\",\"Fail\")\n",
    "\n",
    "df.loc[df[\"Name\"]==\"Neha\", \"Marks\"] = 92\n",
    "\n",
    "print(df)"
   ]
  },
  {
   "cell_type": "code",
   "execution_count": 15,
   "id": "45ba1371-8360-4c87-ae99-d3734ba9e9a8",
   "metadata": {},
   "outputs": [
    {
     "data": {
      "image/png": "[encoded data removed]",
      "text/plain": [
       "<Figure size 640x480 with 1 Axes>"
      ]
     },
     "metadata": {},
     "output_type": "display_data"
    }
   ],
   "source": [
    "import matplotlib.pyplot as plt\n",
    "\n",
    "avg_marks = df.groupby(\"Course\")[\"Marks\"].mean()\n",
    "\n",
    "avg_marks.plot(kind=\"bar\", color=\"skyblue\", edgecolor=\"red\")\n",
    "\n",
    "plt.title(\"avg marks by course\")\n",
    "plt.xlabel(\"Course\")\n",
    "plt.ylabel(\"Avg marks\")\n",
    "plt.xticks(rotation=0)\n",
    "plt.show()\n",
    "          "
   ]
  },
  {
   "cell_type": "code",
   "execution_count": null,
   "id": "613ac824-52cf-4015-95d6-be0951dc29cf",
   "metadata": {},
   "outputs": [],
   "source": []
  }
 ],
 "metadata": {
  "kernelspec": {
   "display_name": "Python 3 (ipykernel)",
   "language": "python",
   "name": "python3"
  },
  "language_info": {
   "codemirror_mode": {
    "name": "ipython",
    "version": 3
   },
   "file_extension": ".py",
   "mimetype": "text/x-python",
   "name": "python",
   "nbconvert_exporter": "python",
   "pygments_lexer": "ipython3",
   "version": "3.11.0"
  }
 },
 "nbformat": 4,
 "nbformat_minor": 5
}
